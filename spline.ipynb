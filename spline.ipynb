{
 "cells": [
  {
   "cell_type": "markdown",
   "metadata": {},
   "source": [
    "# Naravni zlepek\n",
    "\n",
    "Danih je $n$ interpolacijskih točk $(x_i, f_i), i=1,2,...,n$. Naravni interpolacijski zlepek $S$ je funkcija, ki izpolnjuje naslednje pogoje:\n",
    "\n",
    "1. $S(x) = f_i, \\quad i=1,2,...,n$\n",
    "2. $S$ je polinom stopnje **3 ali manj** na vsakem podintervalu $[x_i, x_{i+1}], i=1,2,...,n-1$\n",
    "3. $S$ je dvakrat zvezno odvedljiva funkcija na interpolacijskem intervalu $[x_1, x_n]$\n",
    "4. $S''(x_1) = S''(x_n) = 0$\n",
    "\n",
    "Zlepek $S$ določimo tako, da predpostavimo:\n",
    "$$\n",
    "S(x) = S_i(x) = a_i + b_i(x-x_i) + c_i(x-x_i)^2 + d_i(x-x_i)^3, \\quad x \\in [x_i, x_{i+1}]\n",
    "$$\n",
    "nato pa izpolnemo zahtevane pogoje."
   ]
  },
  {
   "cell_type": "markdown",
   "metadata": {},
   "source": [
    "## Naloga\n",
    "\n",
    "Napišite funkcijo `Z = interpoliraj(x, y)`, ki izračuna koeficient polinoma $S_i$ in vrne lement tipa `Zlepek`. Tip `Zlepek` definirajte sami in naj vsebuje koeficiente polinoma in interpolacijske točke. Za tip `Zlepek` definirajte funkciji:\n",
    "\n",
    "- `y = vrednost(Z, x)`, ki vrne vrednost zlepka v točki `x`\n",
    "- `plot(Z)`, ki nariše graf zlepka, tako da različne odseke izmenično nariše z rdečo in modro barvo (uporabi paket `Plots`)"
   ]
  },
  {
   "cell_type": "markdown",
   "metadata": {},
   "source": [
    "Če drugače zapišemo zgornjo osnovno enačbo iammo:\n",
    "$$\n",
    "S(x) = \n",
    "\\begin{cases}\n",
    "    C_1(x), & x_0 \\leq x \\leq x_1 \\\\\n",
    "    ... \\\\\n",
    "    C_{n-1}(x), & x_{n-1} \\leq x \\leq x_n\n",
    "\\end{cases}\n",
    "$$\n",
    "\n",
    "Robni pogoji funkcije za vsak $i$ so potem:\n",
    "- $C_i(x_{i-1}) = y_{i-1}$ and $C_i(x_i) = y_i$ for $i = 1, 2, ..., n-1$\n",
    "- $C_i'(x_i) = C_{i+1}'(x_i)$ for $i = 1, 2, ..., n-2$ \n",
    "- $C_i''(x_i) = C_{i+1}''(x_i)$ for $i = 1, 2, ..., n-2$\n",
    "\n",
    "Potem imamo $n+n+(n-1)+(n-1) = 4n-2$ pogojev, vendar moramo določiti $4n$ neznank. To storimo tako, da določimo še robna pogoja $S''(x_1) = S''(x_n) = 0$."
   ]
  },
  {
   "cell_type": "code",
   "execution_count": null,
   "metadata": {},
   "outputs": [],
   "source": [
    "struct Zlepek\n",
    "    tocke::Array{Tuple{Float64, Float64}}\n",
    "    koeff::Array{Array{Float64}}\n",
    "end\n",
    "\n",
    "\"\"\"\n",
    "    interpoliraj(x, y)\n",
    "\n",
    "Funkcija interpolira dane točke (x, y) z zlepkom v Lagrangovih baznih polinomih.\n",
    "\"\"\"\n",
    "function interpoliraj(x::Array{Float64}, y::Array{Float64})\n",
    "    n = length(x)\n",
    "\n",
    "    # Sestavi matriko sistema\n",
    "    for i in 1:n\n",
    "    end\n",
    "\n",
    "\n",
    "\n",
    "\n",
    "    koeff = A \\ y\n",
    "    return koeff\n",
    "end"
   ]
  },
  {
   "cell_type": "code",
   "execution_count": 5,
   "metadata": {},
   "outputs": [
    {
     "name": "stdout",
     "output_type": "stream",
     "text": [
      "[0.0; 0.0; 0.0; 0.0;;]"
     ]
    }
   ],
   "source": [
    "print(zeros(4,1))"
   ]
  },
  {
   "cell_type": "code",
   "execution_count": null,
   "metadata": {},
   "outputs": [],
   "source": []
  }
 ],
 "metadata": {
  "kernelspec": {
   "display_name": "Julia 1.10.1",
   "language": "julia",
   "name": "julia-1.10"
  },
  "language_info": {
   "file_extension": ".jl",
   "mimetype": "application/julia",
   "name": "julia",
   "version": "1.10.1"
  }
 },
 "nbformat": 4,
 "nbformat_minor": 2
}
